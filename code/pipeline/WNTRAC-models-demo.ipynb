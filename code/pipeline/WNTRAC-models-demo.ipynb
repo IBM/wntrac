{
 "cells": [
  {
   "cell_type": "code",
   "execution_count": 1,
   "metadata": {},
   "outputs": [],
   "source": [
    "## Copyright 2020 IBM Corporation\n",
    "#\n",
    "# Licensed under the Apache License, Version 2.0 (the \"License\");\n",
    "# you may not use this file except in compliance with the License.\n",
    "# You may obtain a copy of the License at\n",
    "#\n",
    "# http://www.apache.org/licenses/LICENSE-2.0\n",
    "#\n",
    "# Unless required by applicable law or agreed to in writing, software\n",
    "# distributed under the License is distributed on an \"AS IS\" BASIS,\n",
    "# WITHOUT WARRANTIES OR CONDITIONS OF ANY KIND, either express or implied.\n",
    "# See the License for the specific language governing permissions and\n",
    "# limitations under the License."
   ]
  },
  {
   "cell_type": "markdown",
   "metadata": {},
   "source": [
    "### Set up the environment\n",
    "Run the following command to install the necessary packages using pip. This may take a few minutes."
   ]
  },
  {
   "cell_type": "code",
   "execution_count": 2,
   "metadata": {},
   "outputs": [],
   "source": [
    "!pip install -r ../requirements.txt"
   ]
  },
  {
   "cell_type": "markdown",
   "metadata": {},
   "source": [
    "Import the packages."
   ]
  },
  {
   "cell_type": "code",
   "execution_count": 3,
   "metadata": {},
   "outputs": [],
   "source": [
    "import os,sys\n",
    "import pandas as pd\n",
    "from utils.applier_utils import get_metadata\n",
    "from utils.common_utils import get_docid\n",
    "from applier import Applier"
   ]
  },
  {
   "cell_type": "markdown",
   "metadata": {},
   "source": [
    "Download the pre-trained models. This may take a few minutes."
   ]
  },
  {
   "cell_type": "code",
   "execution_count": 6,
   "metadata": {},
   "outputs": [
    {
     "name": "stdout",
     "output_type": "stream",
     "text": [
      "--2020-09-24 13:51:10--  https://wntrac-models-public.s3.us.cloud-object-storage.appdomain.cloud/wntrac_models.zip\n",
      "Resolving wntrac-models-public.s3.us.cloud-object-storage.appdomain.cloud (wntrac-models-public.s3.us.cloud-object-storage.appdomain.cloud)... 67.228.254.196\n",
      "Connecting to wntrac-models-public.s3.us.cloud-object-storage.appdomain.cloud (wntrac-models-public.s3.us.cloud-object-storage.appdomain.cloud)|67.228.254.196|:443... connected.\n",
      "HTTP request sent, awaiting response... 200 OK\n",
      "Length: 406394450 (388M) [application/zip]\n",
      "Saving to: ‘wntrac_models.zip’\n",
      "\n",
      "wntrac_models.zip   100%[===================>] 387.57M  1.91MB/s    in 4m 14s  \n",
      "\n",
      "2020-09-24 13:55:25 (1.53 MB/s) - ‘wntrac_models.zip’ saved [406394450/406394450]\n",
      "\n",
      "Archive:  wntrac_models.zip\n",
      "   creating: wntrac_models/\n",
      "  inflating: wntrac_models/.DS_Store  \n",
      "   creating: __MACOSX/\n",
      "   creating: __MACOSX/wntrac_models/\n",
      "  inflating: __MACOSX/wntrac_models/._.DS_Store  \n",
      "  inflating: wntrac_models/lr.sav    \n",
      "   creating: wntrac_models/bert_model/\n",
      "  inflating: wntrac_models/bert_model/training_args.bin.bkp  \n",
      "  inflating: wntrac_models/bert_model/special_tokens_map.json.bkp  \n",
      "  inflating: wntrac_models/bert_model/config.json  \n",
      "  inflating: wntrac_models/bert_model/tokenizer_config.json.bkp  \n",
      "  inflating: wntrac_models/bert_model/vocab.txt  \n",
      "  inflating: wntrac_models/bert_model/pytorch_model.bin  \n",
      "  inflating: wntrac_models/svm_estimator.sav  \n"
     ]
    }
   ],
   "source": [
    "!wget https://wntrac-models-public.s3.us.cloud-object-storage.appdomain.cloud/wntrac_models.zip\n",
    "!unzip wntrac_models.zip"
   ]
  },
  {
   "cell_type": "markdown",
   "metadata": {},
   "source": [
    "### Execute the NLP pipeline\n",
    "Set the paths to the input directory, models, and resources. Enable CUDA if you have GPUs but it is not necessary for running the pipelone."
   ]
  },
  {
   "cell_type": "code",
   "execution_count": 7,
   "metadata": {},
   "outputs": [],
   "source": [
    "dir_path = 'demo_data'\n",
    "model_path = 'wntrac_models'\n",
    "resources_path = 'resources'\n",
    "use_cuda = False"
   ]
  },
  {
   "cell_type": "markdown",
   "metadata": {},
   "source": [
    "Create an instance of the Applier which initializes models used in the max-voting ensemble (BERT, Support Vector and Logistic Regression)"
   ]
  },
  {
   "cell_type": "code",
   "execution_count": 8,
   "metadata": {},
   "outputs": [
    {
     "name": "stdout",
     "output_type": "stream",
     "text": [
      "Loaded Spacy models.\n",
      "Initialized BERT model\n",
      "Initialized SVM model.\n",
      "Initialized LR model.\n"
     ]
    }
   ],
   "source": [
    "applier = Applier(dir_path, model_path, resources_path, use_cuda)"
   ]
  },
  {
   "cell_type": "markdown",
   "metadata": {},
   "source": [
    "Load an example preprocessed input file. This file is extracted using [MediaWikiAPI](https://www.mediawiki.org/wiki/Wikimedia_REST_API) from the corresponding 'doc_url', and segmented using [SpaCy](https://github.com/explosion/spacy-models/releases//tag/en_core_web_lg-2.2.0)."
   ]
  },
  {
   "cell_type": "code",
   "execution_count": 9,
   "metadata": {},
   "outputs": [],
   "source": [
    "example_file = 'demo_data/preprocessed_doc_COVID-19_pandemic_in_New_York_(state).csv'"
   ]
  },
  {
   "cell_type": "code",
   "execution_count": 10,
   "metadata": {},
   "outputs": [
    {
     "data": {
      "text/html": [
       "<div>\n",
       "<style scoped>\n",
       "    .dataframe tbody tr th:only-of-type {\n",
       "        vertical-align: middle;\n",
       "    }\n",
       "\n",
       "    .dataframe tbody tr th {\n",
       "        vertical-align: top;\n",
       "    }\n",
       "\n",
       "    .dataframe thead th {\n",
       "        text-align: right;\n",
       "    }\n",
       "</style>\n",
       "<table border=\"1\" class=\"dataframe\">\n",
       "  <thead>\n",
       "    <tr style=\"text-align: right;\">\n",
       "      <th></th>\n",
       "      <th>sent_id</th>\n",
       "      <th>text</th>\n",
       "      <th>begin_offset</th>\n",
       "      <th>end_offset</th>\n",
       "      <th>citation_url</th>\n",
       "      <th>date</th>\n",
       "      <th>country</th>\n",
       "      <th>doc_url</th>\n",
       "    </tr>\n",
       "  </thead>\n",
       "  <tbody>\n",
       "    <tr>\n",
       "      <th>0</th>\n",
       "      <td>aea72c78-d183-11ea-a597-b9c421b787e1_1</td>\n",
       "      <td>The first case of COVID-19 in the U.S. state o...</td>\n",
       "      <td>0</td>\n",
       "      <td>219</td>\n",
       "      <td>https://www.wsj.com/articles/first-case-of-cor...</td>\n",
       "      <td>2020-03-01</td>\n",
       "      <td>USA-NY</td>\n",
       "      <td>https://en.wikipedia.org/w/index.php?title=COV...</td>\n",
       "    </tr>\n",
       "    <tr>\n",
       "      <th>1</th>\n",
       "      <td>aea72c78-d183-11ea-a597-b9c421b787e1_2</td>\n",
       "      <td>By April 10, New York had more confirmed cases...</td>\n",
       "      <td>220</td>\n",
       "      <td>375</td>\n",
       "      <td>https://www.cnbc.com/2020/04/10/new-york-state...</td>\n",
       "      <td>2020-04-10</td>\n",
       "      <td>USA-NY</td>\n",
       "      <td>https://en.wikipedia.org/w/index.php?title=COV...</td>\n",
       "    </tr>\n",
       "    <tr>\n",
       "      <th>2</th>\n",
       "      <td>aea72c78-d183-11ea-a597-b9c421b787e1_3</td>\n",
       "      <td>As of , there have been 5.7 million tests, 412...</td>\n",
       "      <td>376</td>\n",
       "      <td>475</td>\n",
       "      <td>NaN</td>\n",
       "      <td>2020-04-10</td>\n",
       "      <td>USA-NY</td>\n",
       "      <td>https://en.wikipedia.org/w/index.php?title=COV...</td>\n",
       "    </tr>\n",
       "    <tr>\n",
       "      <th>3</th>\n",
       "      <td>aea72c78-d183-11ea-a597-b9c421b787e1_4</td>\n",
       "      <td>New York had the highest number of confirmed c...</td>\n",
       "      <td>475</td>\n",
       "      <td>634</td>\n",
       "      <td>https://www.france24.com/en/20200722-californi...</td>\n",
       "      <td>2020-07-22</td>\n",
       "      <td>USA-NY</td>\n",
       "      <td>https://en.wikipedia.org/w/index.php?title=COV...</td>\n",
       "    </tr>\n",
       "    <tr>\n",
       "      <th>4</th>\n",
       "      <td>aea72c78-d183-11ea-a597-b9c421b787e1_5</td>\n",
       "      <td>In May 2020, nearly one-fourth of known U.S. c...</td>\n",
       "      <td>635</td>\n",
       "      <td>740</td>\n",
       "      <td>NaN</td>\n",
       "      <td>2020-05-29</td>\n",
       "      <td>USA-NY</td>\n",
       "      <td>https://en.wikipedia.org/w/index.php?title=COV...</td>\n",
       "    </tr>\n",
       "  </tbody>\n",
       "</table>\n",
       "</div>"
      ],
      "text/plain": [
       "                                  sent_id  \\\n",
       "0  aea72c78-d183-11ea-a597-b9c421b787e1_1   \n",
       "1  aea72c78-d183-11ea-a597-b9c421b787e1_2   \n",
       "2  aea72c78-d183-11ea-a597-b9c421b787e1_3   \n",
       "3  aea72c78-d183-11ea-a597-b9c421b787e1_4   \n",
       "4  aea72c78-d183-11ea-a597-b9c421b787e1_5   \n",
       "\n",
       "                                                text  begin_offset  \\\n",
       "0  The first case of COVID-19 in the U.S. state o...             0   \n",
       "1  By April 10, New York had more confirmed cases...           220   \n",
       "2  As of , there have been 5.7 million tests, 412...           376   \n",
       "3  New York had the highest number of confirmed c...           475   \n",
       "4  In May 2020, nearly one-fourth of known U.S. c...           635   \n",
       "\n",
       "   end_offset                                       citation_url        date  \\\n",
       "0         219  https://www.wsj.com/articles/first-case-of-cor...  2020-03-01   \n",
       "1         375  https://www.cnbc.com/2020/04/10/new-york-state...  2020-04-10   \n",
       "2         475                                                NaN  2020-04-10   \n",
       "3         634  https://www.france24.com/en/20200722-californi...  2020-07-22   \n",
       "4         740                                                NaN  2020-05-29   \n",
       "\n",
       "  country                                            doc_url  \n",
       "0  USA-NY  https://en.wikipedia.org/w/index.php?title=COV...  \n",
       "1  USA-NY  https://en.wikipedia.org/w/index.php?title=COV...  \n",
       "2  USA-NY  https://en.wikipedia.org/w/index.php?title=COV...  \n",
       "3  USA-NY  https://en.wikipedia.org/w/index.php?title=COV...  \n",
       "4  USA-NY  https://en.wikipedia.org/w/index.php?title=COV...  "
      ]
     },
     "execution_count": 10,
     "metadata": {},
     "output_type": "execute_result"
    }
   ],
   "source": [
    "example_file_df = pd.read_csv(example_file)\n",
    "example_file_df.head()"
   ]
  },
  {
   "cell_type": "markdown",
   "metadata": {},
   "source": [
    "Applying the model on the example input:"
   ]
  },
  {
   "cell_type": "code",
   "execution_count": null,
   "metadata": {},
   "outputs": [
    {
     "name": "stderr",
     "output_type": "stream",
     "text": [
      "I0924 13:55:39.685056 4504417728 classification_model.py:931]  Converting to features started. Cache is not used.\n"
     ]
    },
    {
     "data": {
      "application/vnd.jupyter.widget-view+json": {
       "model_id": "21139785a4564f17b48a784b8e98b15d",
       "version_major": 2,
       "version_minor": 0
      },
      "text/plain": [
       "HBox(children=(FloatProgress(value=0.0, max=511.0), HTML(value='')))"
      ]
     },
     "metadata": {},
     "output_type": "display_data"
    },
    {
     "name": "stdout",
     "output_type": "stream",
     "text": [
      "\n"
     ]
    },
    {
     "data": {
      "application/vnd.jupyter.widget-view+json": {
       "model_id": "d00304abb9254a5b9e893537dc28b5e0",
       "version_major": 2,
       "version_minor": 0
      },
      "text/plain": [
       "HBox(children=(FloatProgress(value=0.0, max=64.0), HTML(value='')))"
      ]
     },
     "metadata": {},
     "output_type": "display_data"
    },
    {
     "name": "stdout",
     "output_type": "stream",
     "text": [
      "\n"
     ]
    },
    {
     "name": "stdout",
     "output_type": "stream",
     "text": [
      "Event Type Prediction complete, starting fine-grained event value prediction\n"
     ]
    }
   ],
   "source": [
    "example_file_df = applier._predict_type(example_file_df)"
   ]
  },
  {
   "cell_type": "markdown",
   "metadata": {},
   "source": [
    "The output below shows the predictions of each individual model in prediction_[MODEL_NAME], as well as it's final (ensembled) event-type in 'type'. The computed event value is represented in 'value' field."
   ]
  },
  {
   "cell_type": "code",
   "execution_count": null,
   "metadata": {},
   "outputs": [],
   "source": [
    "example_file_df.head()"
   ]
  },
  {
   "cell_type": "markdown",
   "metadata": {},
   "source": [
    "Produce the WNTRAC data record: set the crawl_id, crawl_date, unique id for each NPI evidence."
   ]
  },
  {
   "cell_type": "code",
   "execution_count": null,
   "metadata": {},
   "outputs": [],
   "source": [
    "doc_url = example_file_df['doc_url'].iloc[0]\n",
    "doc_id = get_docid(doc_url)\n",
    "outpath = os.path.join(applier.dir_path, 'nlp_doc_' + str(doc_id) + \".csv\")\n",
    "crawl_id, crawl_date = get_metadata(applier.dir_path)\n",
    "example_file_df['crawl_id']=crawl_id\n",
    "example_file_df['crawl_date']=crawl_date\n",
    "example_file_df['evid_id']=example_file_df.apply(lambda row:applier._generate_evid_id(), axis=1)\n",
    "example_file_df = applier._remove_other_types(example_file_df)\n",
    "example_file_df = example_file_df.rename(columns={'wikified':'fine_grained_location'})\n",
    "headers = ['evid_id','sent_id','doc_url', 'crawl_id', 'crawl_date', 'text', 'begin_offset', 'end_offset', 'citation_url', 'type', 'country','date', 'value', 'level_of_confidence', 'level_of_enforcement', 'restriction', 'fine_grained_location']"
   ]
  },
  {
   "cell_type": "markdown",
   "metadata": {},
   "source": [
    "Write the output file."
   ]
  },
  {
   "cell_type": "code",
   "execution_count": null,
   "metadata": {},
   "outputs": [],
   "source": [
    "example_file_df.to_csv(outpath, index=False, encoding='utf-8', columns=headers)\n",
    "print (\"Dumping output in \", outpath)"
   ]
  },
  {
   "cell_type": "markdown",
   "metadata": {},
   "source": [
    "A snippet of the output file produced by the pipeline."
   ]
  },
  {
   "cell_type": "code",
   "execution_count": 28,
   "metadata": {},
   "outputs": [
    {
     "data": {
      "text/html": [
       "<div>\n",
       "<style scoped>\n",
       "    .dataframe tbody tr th:only-of-type {\n",
       "        vertical-align: middle;\n",
       "    }\n",
       "\n",
       "    .dataframe tbody tr th {\n",
       "        vertical-align: top;\n",
       "    }\n",
       "\n",
       "    .dataframe thead th {\n",
       "        text-align: right;\n",
       "    }\n",
       "</style>\n",
       "<table border=\"1\" class=\"dataframe\">\n",
       "  <thead>\n",
       "    <tr style=\"text-align: right;\">\n",
       "      <th></th>\n",
       "      <th>sent_id</th>\n",
       "      <th>text</th>\n",
       "      <th>begin_offset</th>\n",
       "      <th>end_offset</th>\n",
       "      <th>citation_url</th>\n",
       "      <th>date</th>\n",
       "      <th>country</th>\n",
       "      <th>doc_url</th>\n",
       "      <th>prediction</th>\n",
       "      <th>prediction_BERT</th>\n",
       "      <th>...</th>\n",
       "      <th>conf_LOGISTIC_REGRESSION</th>\n",
       "      <th>type</th>\n",
       "      <th>level_of_confidence</th>\n",
       "      <th>value</th>\n",
       "      <th>fine_grained_location</th>\n",
       "      <th>level_of_enforcement</th>\n",
       "      <th>restriction</th>\n",
       "      <th>crawl_id</th>\n",
       "      <th>crawl_date</th>\n",
       "      <th>evid_id</th>\n",
       "    </tr>\n",
       "  </thead>\n",
       "  <tbody>\n",
       "    <tr>\n",
       "      <th>0</th>\n",
       "      <td>aea72c78-d183-11ea-a597-b9c421b787e1_1</td>\n",
       "      <td>The first case of COVID-19 in the U.S. state o...</td>\n",
       "      <td>0</td>\n",
       "      <td>219</td>\n",
       "      <td>https://www.wsj.com/articles/first-case-of-cor...</td>\n",
       "      <td>2020-03-01</td>\n",
       "      <td>USA-NY</td>\n",
       "      <td>https://en.wikipedia.org/w/index.php?title=COV...</td>\n",
       "      <td>8</td>\n",
       "      <td>unk</td>\n",
       "      <td>...</td>\n",
       "      <td>0.984</td>\n",
       "      <td>unk</td>\n",
       "      <td>0.759411</td>\n",
       "      <td></td>\n",
       "      <td>Covid-19|U.S.|New York</td>\n",
       "      <td></td>\n",
       "      <td></td>\n",
       "      <td>2020-07-29_eba153f2-d182-11ea-ae45-0b95ea282be6</td>\n",
       "      <td>2020-07-29</td>\n",
       "      <td>4e876f37-57dc-4852-b421-4e50aebaf4eb</td>\n",
       "    </tr>\n",
       "    <tr>\n",
       "      <th>1</th>\n",
       "      <td>aea72c78-d183-11ea-a597-b9c421b787e1_2</td>\n",
       "      <td>By April 10, New York had more confirmed cases...</td>\n",
       "      <td>220</td>\n",
       "      <td>375</td>\n",
       "      <td>https://www.cnbc.com/2020/04/10/new-york-state...</td>\n",
       "      <td>2020-04-10</td>\n",
       "      <td>USA-NY</td>\n",
       "      <td>https://en.wikipedia.org/w/index.php?title=COV...</td>\n",
       "      <td>8</td>\n",
       "      <td>unk</td>\n",
       "      <td>...</td>\n",
       "      <td>0.997</td>\n",
       "      <td>unk</td>\n",
       "      <td>0.726589</td>\n",
       "      <td></td>\n",
       "      <td>New York</td>\n",
       "      <td></td>\n",
       "      <td></td>\n",
       "      <td>2020-07-29_eba153f2-d182-11ea-ae45-0b95ea282be6</td>\n",
       "      <td>2020-07-29</td>\n",
       "      <td>5e32138a-bd8f-44c2-9e6c-21bc266b839f</td>\n",
       "    </tr>\n",
       "    <tr>\n",
       "      <th>2</th>\n",
       "      <td>aea72c78-d183-11ea-a597-b9c421b787e1_3</td>\n",
       "      <td>As of , there have been 5.7 million tests, 412...</td>\n",
       "      <td>376</td>\n",
       "      <td>475</td>\n",
       "      <td>NaN</td>\n",
       "      <td>2020-04-10</td>\n",
       "      <td>USA-NY</td>\n",
       "      <td>https://en.wikipedia.org/w/index.php?title=COV...</td>\n",
       "      <td>8</td>\n",
       "      <td>unk</td>\n",
       "      <td>...</td>\n",
       "      <td>0.746</td>\n",
       "      <td>unk</td>\n",
       "      <td>0.735538</td>\n",
       "      <td></td>\n",
       "      <td></td>\n",
       "      <td></td>\n",
       "      <td></td>\n",
       "      <td>2020-07-29_eba153f2-d182-11ea-ae45-0b95ea282be6</td>\n",
       "      <td>2020-07-29</td>\n",
       "      <td>d3e0d803-c994-4dc6-a05a-e545e9d17763</td>\n",
       "    </tr>\n",
       "    <tr>\n",
       "      <th>3</th>\n",
       "      <td>aea72c78-d183-11ea-a597-b9c421b787e1_4</td>\n",
       "      <td>New York had the highest number of confirmed c...</td>\n",
       "      <td>475</td>\n",
       "      <td>634</td>\n",
       "      <td>https://www.france24.com/en/20200722-californi...</td>\n",
       "      <td>2020-07-22</td>\n",
       "      <td>USA-NY</td>\n",
       "      <td>https://en.wikipedia.org/w/index.php?title=COV...</td>\n",
       "      <td>8</td>\n",
       "      <td>unk</td>\n",
       "      <td>...</td>\n",
       "      <td>0.586</td>\n",
       "      <td>unk</td>\n",
       "      <td>0.564721</td>\n",
       "      <td></td>\n",
       "      <td>New York|U.S.|California|Florida</td>\n",
       "      <td></td>\n",
       "      <td></td>\n",
       "      <td>2020-07-29_eba153f2-d182-11ea-ae45-0b95ea282be6</td>\n",
       "      <td>2020-07-29</td>\n",
       "      <td>f14272e2-aa30-4c5a-9562-0e11c8285c9e</td>\n",
       "    </tr>\n",
       "    <tr>\n",
       "      <th>4</th>\n",
       "      <td>aea72c78-d183-11ea-a597-b9c421b787e1_5</td>\n",
       "      <td>In May 2020, nearly one-fourth of known U.S. c...</td>\n",
       "      <td>635</td>\n",
       "      <td>740</td>\n",
       "      <td>NaN</td>\n",
       "      <td>2020-05-29</td>\n",
       "      <td>USA-NY</td>\n",
       "      <td>https://en.wikipedia.org/w/index.php?title=COV...</td>\n",
       "      <td>8</td>\n",
       "      <td>unk</td>\n",
       "      <td>...</td>\n",
       "      <td>0.940</td>\n",
       "      <td>unk</td>\n",
       "      <td>0.691224</td>\n",
       "      <td></td>\n",
       "      <td>U.S.|New York</td>\n",
       "      <td></td>\n",
       "      <td></td>\n",
       "      <td>2020-07-29_eba153f2-d182-11ea-ae45-0b95ea282be6</td>\n",
       "      <td>2020-07-29</td>\n",
       "      <td>6252b0cb-d7a4-4bea-854e-e781d4789019</td>\n",
       "    </tr>\n",
       "  </tbody>\n",
       "</table>\n",
       "<p>5 rows × 25 columns</p>\n",
       "</div>"
      ],
      "text/plain": [
       "                                  sent_id  \\\n",
       "0  aea72c78-d183-11ea-a597-b9c421b787e1_1   \n",
       "1  aea72c78-d183-11ea-a597-b9c421b787e1_2   \n",
       "2  aea72c78-d183-11ea-a597-b9c421b787e1_3   \n",
       "3  aea72c78-d183-11ea-a597-b9c421b787e1_4   \n",
       "4  aea72c78-d183-11ea-a597-b9c421b787e1_5   \n",
       "\n",
       "                                                text  begin_offset  \\\n",
       "0  The first case of COVID-19 in the U.S. state o...             0   \n",
       "1  By April 10, New York had more confirmed cases...           220   \n",
       "2  As of , there have been 5.7 million tests, 412...           376   \n",
       "3  New York had the highest number of confirmed c...           475   \n",
       "4  In May 2020, nearly one-fourth of known U.S. c...           635   \n",
       "\n",
       "   end_offset                                       citation_url        date  \\\n",
       "0         219  https://www.wsj.com/articles/first-case-of-cor...  2020-03-01   \n",
       "1         375  https://www.cnbc.com/2020/04/10/new-york-state...  2020-04-10   \n",
       "2         475                                                NaN  2020-04-10   \n",
       "3         634  https://www.france24.com/en/20200722-californi...  2020-07-22   \n",
       "4         740                                                NaN  2020-05-29   \n",
       "\n",
       "  country                                            doc_url  prediction  \\\n",
       "0  USA-NY  https://en.wikipedia.org/w/index.php?title=COV...           8   \n",
       "1  USA-NY  https://en.wikipedia.org/w/index.php?title=COV...           8   \n",
       "2  USA-NY  https://en.wikipedia.org/w/index.php?title=COV...           8   \n",
       "3  USA-NY  https://en.wikipedia.org/w/index.php?title=COV...           8   \n",
       "4  USA-NY  https://en.wikipedia.org/w/index.php?title=COV...           8   \n",
       "\n",
       "  prediction_BERT  ...  conf_LOGISTIC_REGRESSION type level_of_confidence  \\\n",
       "0             unk  ...                     0.984  unk            0.759411   \n",
       "1             unk  ...                     0.997  unk            0.726589   \n",
       "2             unk  ...                     0.746  unk            0.735538   \n",
       "3             unk  ...                     0.586  unk            0.564721   \n",
       "4             unk  ...                     0.940  unk            0.691224   \n",
       "\n",
       "   value             fine_grained_location  level_of_enforcement restriction  \\\n",
       "0                   Covid-19|U.S.|New York                                     \n",
       "1                                 New York                                     \n",
       "2                                                                              \n",
       "3         New York|U.S.|California|Florida                                     \n",
       "4                            U.S.|New York                                     \n",
       "\n",
       "                                          crawl_id  crawl_date  \\\n",
       "0  2020-07-29_eba153f2-d182-11ea-ae45-0b95ea282be6  2020-07-29   \n",
       "1  2020-07-29_eba153f2-d182-11ea-ae45-0b95ea282be6  2020-07-29   \n",
       "2  2020-07-29_eba153f2-d182-11ea-ae45-0b95ea282be6  2020-07-29   \n",
       "3  2020-07-29_eba153f2-d182-11ea-ae45-0b95ea282be6  2020-07-29   \n",
       "4  2020-07-29_eba153f2-d182-11ea-ae45-0b95ea282be6  2020-07-29   \n",
       "\n",
       "                                evid_id  \n",
       "0  4e876f37-57dc-4852-b421-4e50aebaf4eb  \n",
       "1  5e32138a-bd8f-44c2-9e6c-21bc266b839f  \n",
       "2  d3e0d803-c994-4dc6-a05a-e545e9d17763  \n",
       "3  f14272e2-aa30-4c5a-9562-0e11c8285c9e  \n",
       "4  6252b0cb-d7a4-4bea-854e-e781d4789019  \n",
       "\n",
       "[5 rows x 25 columns]"
      ]
     },
     "execution_count": 28,
     "metadata": {},
     "output_type": "execute_result"
    }
   ],
   "source": [
    "example_file_df.head()"
   ]
  }
 ],
 "metadata": {
  "kernelspec": {
   "display_name": "Python 3",
   "language": "python",
   "name": "python3"
  },
  "language_info": {
   "codemirror_mode": {
    "name": "ipython",
    "version": 3
   },
   "file_extension": ".py",
   "mimetype": "text/x-python",
   "name": "python",
   "nbconvert_exporter": "python",
   "pygments_lexer": "ipython3",
   "version": "3.6.7"
  }
 },
 "nbformat": 4,
 "nbformat_minor": 2
}
